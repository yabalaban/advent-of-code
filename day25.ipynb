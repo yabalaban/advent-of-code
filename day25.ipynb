{
 "cells": [
  {
   "cell_type": "code",
   "execution_count": 1,
   "id": "83e56d0d-7a97-4e44-b629-bac2f5669036",
   "metadata": {},
   "outputs": [],
   "source": [
    "import networkx as nx"
   ]
  },
  {
   "cell_type": "code",
   "execution_count": 7,
   "id": "698730a2-d1ae-48f3-b142-5ec552488c29",
   "metadata": {},
   "outputs": [],
   "source": [
    "def parse_graph(string):\n",
    "    G = nx.Graph()\n",
    "    lines = string.strip().split(\"\\n\")\n",
    "    for line in lines:\n",
    "        comp = line.split(\": \")\n",
    "        from_ = comp[0]\n",
    "        to_ = comp[1].split(\" \")\n",
    "        for to in to_:\n",
    "            G.add_edge(from_, to, capacity=1.0)\n",
    "    return G"
   ]
  },
  {
   "cell_type": "code",
   "execution_count": 16,
   "id": "ef88dd45-2442-4cff-9672-119a7df4ed4d",
   "metadata": {},
   "outputs": [],
   "source": [
    "inp = open(\"day25.txt\").read()\n",
    "G = parse_graph(inp)"
   ]
  },
  {
   "cell_type": "code",
   "execution_count": 41,
   "id": "c07dcb45-934c-4384-86a3-a56ff4e27bb6",
   "metadata": {},
   "outputs": [],
   "source": [
    "cut_value_2, partition_2 = nx.stoer_wagner(G)"
   ]
  },
  {
   "cell_type": "code",
   "execution_count": 45,
   "id": "01b86197-258a-4b70-8ef7-262bc8ed68da",
   "metadata": {},
   "outputs": [
    {
     "data": {
      "text/plain": [
       "543256"
      ]
     },
     "execution_count": 45,
     "metadata": {},
     "output_type": "execute_result"
    }
   ],
   "source": [
    "len(partition_2[0]) * len(partition_2[1])"
   ]
  },
  {
   "cell_type": "code",
   "execution_count": null,
   "id": "6af85ea8-c0bf-425a-a058-e021d8bfaf82",
   "metadata": {},
   "outputs": [],
   "source": []
  }
 ],
 "metadata": {
  "kernelspec": {
   "display_name": "Python 3 (ipykernel)",
   "language": "python",
   "name": "python3"
  },
  "language_info": {
   "codemirror_mode": {
    "name": "ipython",
    "version": 3
   },
   "file_extension": ".py",
   "mimetype": "text/x-python",
   "name": "python",
   "nbconvert_exporter": "python",
   "pygments_lexer": "ipython3",
   "version": "3.10.9"
  }
 },
 "nbformat": 4,
 "nbformat_minor": 5
}
