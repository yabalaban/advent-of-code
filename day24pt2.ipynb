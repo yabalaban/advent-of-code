{
 "cells": [
  {
   "cell_type": "code",
   "execution_count": null,
   "id": "9187a40d-6046-4450-9e9f-5226f405b606",
   "metadata": {},
   "outputs": [],
   "source": [
    "inp = open('day24pt2.txt').readlines()"
   ]
  },
  {
   "cell_type": "code",
   "execution_count": null,
   "id": "218fd72f-9048-423a-b351-a73f16de1c17",
   "metadata": {},
   "outputs": [],
   "source": [
    "from dataclasses import dataclass\n",
    "\n",
    "@dataclass \n",
    "class Point3D:\n",
    "    x: int\n",
    "    y: int\n",
    "    z: int\n",
    "\n",
    "    def __repr__(self):\n",
    "        return f\"{self.x}, {self.y}, {self.z}\"\n",
    "\n",
    "class Hailstone: \n",
    "    pos: Point3D\n",
    "    v: Point3D\n",
    "\n",
    "    def __init__(self, pos: Point3D, v: Point3D):\n",
    "        self.pos = pos\n",
    "        self.v = v\n",
    "\n",
    "    def __repr__(self):\n",
    "        return f\"{self.pos} @ {self.v}\"\n",
    "\n",
    "inp = [x.strip() for x in inp]\n",
    "hailstones = []\n",
    "for row in inp:\n",
    "    comp = row.split(\" @ \")\n",
    "    pos = comp[0].split(\", \")\n",
    "    v = comp[1].split(\", \")\n",
    "    hailstone = Hailstone(\n",
    "        Point3D(float(pos[0]), float(pos[1]), float(pos[2])),\n",
    "        Point3D(float(v[0]), float(v[1]), float(v[2])),\n",
    "    )\n",
    "    hailstones.append(hailstone)"
   ]
  },
  {
   "cell_type": "code",
   "execution_count": 63,
   "id": "8e0b6771-7e97-431b-ba0e-ee98e813dd2d",
   "metadata": {},
   "outputs": [
    {
     "data": {
      "text/latex": [
       "$\\displaystyle \\left\\{\\left( 140604613634294.0, \\  224390889669946.0, \\  206098283112689.0, \\  242.0, \\  83.0, \\  168.0, \\  658383257735.0, \\  273530182141.0, \\  328834606838.0\\right)\\right\\}$"
      ],
      "text/plain": [
       "{(140604613634294.0, 224390889669946.0, 206098283112689.0, 242.0, 83.0, 168.0, 658383257735.0, 273530182141.0, 328834606838.0)}"
      ]
     },
     "execution_count": 63,
     "metadata": {},
     "output_type": "execute_result"
    }
   ],
   "source": [
    "from sympy import nonlinsolve\n",
    "\n",
    "ex_hailstones = [\n",
    "    Hailstone(Point3D(19, 13, 30), Point3D(-2, 1, -2)),\n",
    "    Hailstone(Point3D(18, 19, 22), Point3D(-1, -1, -2)),\n",
    "    Hailstone(Point3D(20, 25, 34), Point3D(-2, -2, -4)),\n",
    "    Hailstone(Point3D(12, 31, 28), Point3D(-1, -2, -1)),\n",
    "    Hailstone(Point3D(20, 19, 15), Point3D(1, -5, -3)),\n",
    "]\n",
    "\n",
    "pos0x, pos0y, pos0z = symbols('pos0x pos0y pos0z', integer=True)\n",
    "v0x, v0y, v0z = symbols('v0x v0y v0z', integer=True)\n",
    "\n",
    "eqs = [] \n",
    "ts = []\n",
    "for i, h in enumerate(hailstones[:3]):\n",
    "    t = symbols(f\"t{i}\", integer=True, positive=True)\n",
    "    ts.append(t)\n",
    "    eqs.extend([h.pos.x + t * h.v.x - pos0x - t * v0x])\n",
    "    eqs.extend([h.pos.y + t * h.v.y - pos0y - t * v0y])\n",
    "    eqs.extend([h.pos.z + t * h.v.z - pos0z - t * v0z])\n",
    "\n",
    "nonlinsolve(eqs, [pos0x, pos0y, pos0z, v0x, v0y, v0z] + ts, [1] * len([pos0x, pos0y, pos0z, v0x, v0y, v0z] + ts))"
   ]
  },
  {
   "cell_type": "code",
   "execution_count": null,
   "id": "c2e2d750-d0cf-429d-b35c-b06d5e25a7d5",
   "metadata": {},
   "outputs": [],
   "source": []
  }
 ],
 "metadata": {
  "kernelspec": {
   "display_name": "Python 3 (ipykernel)",
   "language": "python",
   "name": "python3"
  },
  "language_info": {
   "codemirror_mode": {
    "name": "ipython",
    "version": 3
   },
   "file_extension": ".py",
   "mimetype": "text/x-python",
   "name": "python",
   "nbconvert_exporter": "python",
   "pygments_lexer": "ipython3",
   "version": "3.10.9"
  }
 },
 "nbformat": 4,
 "nbformat_minor": 5
}
